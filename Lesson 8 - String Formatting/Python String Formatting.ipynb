{
 "cells": [
  {
   "cell_type": "markdown",
   "metadata": {},
   "source": [
    "### Why do we care about formatting string output?\n",
    "\n",
    "Every program produces output, but without proper formatting so the user can understand it it's essentially worthless.\n",
    "\n",
    "We're using the store example again, I know you hate it by now. You've properly implemented the loyalty program that runs for every customer. The boss is happy with the results, but doesn't fully trust your work. Your manager is very meticulous and  wants you to give him a print out of every customer name and phone number in the format \"The customer's name is John Doe and their phone number is 300-661-0002\". This is where string formatting will make this a very easy job.\n",
    "\n",
    "-----"
   ]
  },
  {
   "cell_type": "markdown",
   "metadata": {},
   "source": [
    "## Table of Contents\n",
    "1. `print` Statements\n",
    "\n",
    "\n",
    "2. `%s`, `%d`, and `%f` Arguments\n",
    "\n",
    "\n",
    "3. `.format()` \n",
    "\n",
    "    3.a. No Parameters\n",
    "    \n",
    "    3.b. With Parameters\n",
    "\n",
    "\n",
    "4. Number Formatting\n",
    "\n",
    "\n",
    "5. Formatted String Literals \"f-strings\""
   ]
  },
  {
   "cell_type": "markdown",
   "metadata": {},
   "source": [
    "## 1. `print` Statements"
   ]
  },
  {
   "cell_type": "code",
   "execution_count": 1,
   "metadata": {},
   "outputs": [
    {
     "name": "stdout",
     "output_type": "stream",
     "text": [
      "a\n"
     ]
    }
   ],
   "source": [
    "print('a')"
   ]
  },
  {
   "cell_type": "code",
   "execution_count": 2,
   "metadata": {},
   "outputs": [
    {
     "ename": "SyntaxError",
     "evalue": "invalid syntax (<ipython-input-2-791664d3d3d0>, line 1)",
     "output_type": "error",
     "traceback": [
      "\u001b[1;36m  File \u001b[1;32m\"<ipython-input-2-791664d3d3d0>\"\u001b[1;36m, line \u001b[1;32m1\u001b[0m\n\u001b[1;33m    print 'a'  # allowed in python 2 (now deprecated)\u001b[0m\n\u001b[1;37m            ^\u001b[0m\n\u001b[1;31mSyntaxError\u001b[0m\u001b[1;31m:\u001b[0m invalid syntax\n"
     ]
    }
   ],
   "source": [
    "print 'a'  # allowed in python 2 (now deprecated)"
   ]
  },
  {
   "cell_type": "code",
   "execution_count": 3,
   "metadata": {},
   "outputs": [
    {
     "name": "stdout",
     "output_type": "stream",
     "text": [
      "4\n",
      "[4, 3, 2]\n",
      "{'a': 1, 'b': 2}\n"
     ]
    }
   ],
   "source": [
    "num = 4\n",
    "lst = [4,3,2]\n",
    "dic = {'a': 1, 'b': 2}\n",
    "\n",
    "print(num)\n",
    "print(lst)\n",
    "print(dic)"
   ]
  },
  {
   "cell_type": "markdown",
   "metadata": {},
   "source": [
    "## 2. `%s`, `%d`, and `%f` Arguments\n",
    "\n",
    "#### OLD method.\n",
    "\n",
    "- %s : str\n",
    "- %d : int\n",
    "- %f : float"
   ]
  },
  {
   "cell_type": "code",
   "execution_count": 4,
   "metadata": {},
   "outputs": [
    {
     "name": "stdout",
     "output_type": "stream",
     "text": [
      "Customer name is John Doe and he spent 10000\n"
     ]
    }
   ],
   "source": [
    "name = 'John Doe'\n",
    "amt = 10_000.123\n",
    "\n",
    "print('Customer name is %s and he spent %d' % (name, amt))"
   ]
  },
  {
   "cell_type": "code",
   "execution_count": 5,
   "metadata": {},
   "outputs": [
    {
     "name": "stdout",
     "output_type": "stream",
     "text": [
      "Name is John Doe and they spent 10000.123000\n"
     ]
    }
   ],
   "source": [
    "print('Name is %s and they spent %f' % (name, amt))"
   ]
  },
  {
   "cell_type": "code",
   "execution_count": 6,
   "metadata": {},
   "outputs": [
    {
     "ename": "TypeError",
     "evalue": "not enough arguments for format string",
     "output_type": "error",
     "traceback": [
      "\u001b[1;31m---------------------------------------------------------------------------\u001b[0m",
      "\u001b[1;31mTypeError\u001b[0m                                 Traceback (most recent call last)",
      "\u001b[1;32m<ipython-input-6-e52f3ca9320e>\u001b[0m in \u001b[0;36m<module>\u001b[1;34m\u001b[0m\n\u001b[0;32m      1\u001b[0m \u001b[1;31m# 2 arguments, but only one passed\u001b[0m\u001b[1;33m\u001b[0m\u001b[1;33m\u001b[0m\u001b[1;33m\u001b[0m\u001b[0m\n\u001b[1;32m----> 2\u001b[1;33m \u001b[0mprint\u001b[0m\u001b[1;33m(\u001b[0m\u001b[1;34m'Name is %s and they spent %f'\u001b[0m \u001b[1;33m%\u001b[0m \u001b[1;33m(\u001b[0m\u001b[0mname\u001b[0m\u001b[1;33m)\u001b[0m\u001b[1;33m)\u001b[0m\u001b[1;33m\u001b[0m\u001b[1;33m\u001b[0m\u001b[0m\n\u001b[0m",
      "\u001b[1;31mTypeError\u001b[0m: not enough arguments for format string"
     ]
    }
   ],
   "source": [
    "# 2 arguments, but only one passed\n",
    "print('Name is %s and they spent %f' % (name))"
   ]
  },
  {
   "cell_type": "code",
   "execution_count": 7,
   "metadata": {},
   "outputs": [
    {
     "ename": "TypeError",
     "evalue": "not all arguments converted during string formatting",
     "output_type": "error",
     "traceback": [
      "\u001b[1;31m---------------------------------------------------------------------------\u001b[0m",
      "\u001b[1;31mTypeError\u001b[0m                                 Traceback (most recent call last)",
      "\u001b[1;32m<ipython-input-7-375486addb13>\u001b[0m in \u001b[0;36m<module>\u001b[1;34m\u001b[0m\n\u001b[0;32m      1\u001b[0m \u001b[1;31m# 1 arguments, but two passed\u001b[0m\u001b[1;33m\u001b[0m\u001b[1;33m\u001b[0m\u001b[1;33m\u001b[0m\u001b[0m\n\u001b[1;32m----> 2\u001b[1;33m \u001b[0mprint\u001b[0m\u001b[1;33m(\u001b[0m\u001b[1;34m'Name is %s and they spent 10000'\u001b[0m \u001b[1;33m%\u001b[0m \u001b[1;33m(\u001b[0m\u001b[0mname\u001b[0m\u001b[1;33m,\u001b[0m \u001b[0mamt\u001b[0m\u001b[1;33m)\u001b[0m\u001b[1;33m)\u001b[0m\u001b[1;33m\u001b[0m\u001b[1;33m\u001b[0m\u001b[0m\n\u001b[0m",
      "\u001b[1;31mTypeError\u001b[0m: not all arguments converted during string formatting"
     ]
    }
   ],
   "source": [
    "# 1 arguments, but two passed\n",
    "print('Name is %s and they spent 10000' % (name, amt))"
   ]
  },
  {
   "cell_type": "code",
   "execution_count": 8,
   "metadata": {},
   "outputs": [
    {
     "ename": "TypeError",
     "evalue": "must be real number, not str",
     "output_type": "error",
     "traceback": [
      "\u001b[1;31m---------------------------------------------------------------------------\u001b[0m",
      "\u001b[1;31mTypeError\u001b[0m                                 Traceback (most recent call last)",
      "\u001b[1;32m<ipython-input-8-da8704b9f14b>\u001b[0m in \u001b[0;36m<module>\u001b[1;34m\u001b[0m\n\u001b[0;32m      1\u001b[0m \u001b[1;31m# name is not a float `%f`\u001b[0m\u001b[1;33m\u001b[0m\u001b[1;33m\u001b[0m\u001b[1;33m\u001b[0m\u001b[0m\n\u001b[1;32m----> 2\u001b[1;33m \u001b[0mprint\u001b[0m\u001b[1;33m(\u001b[0m\u001b[1;34m'Name is %s and they spent %f'\u001b[0m \u001b[1;33m%\u001b[0m \u001b[1;33m(\u001b[0m\u001b[0mname\u001b[0m\u001b[1;33m,\u001b[0m \u001b[0mname\u001b[0m\u001b[1;33m)\u001b[0m\u001b[1;33m)\u001b[0m\u001b[1;33m\u001b[0m\u001b[1;33m\u001b[0m\u001b[0m\n\u001b[0m",
      "\u001b[1;31mTypeError\u001b[0m: must be real number, not str"
     ]
    }
   ],
   "source": [
    "# name is not a float `%f`\n",
    "print('Name is %s and they spent %f' % (name, name))"
   ]
  },
  {
   "cell_type": "markdown",
   "metadata": {},
   "source": [
    "Using the `%` operator to format strings is unforgiving. \n",
    "\n",
    "Strings can't be substituted for numbers and vice-versa. The number of arguments must match as well."
   ]
  },
  {
   "cell_type": "code",
   "execution_count": 9,
   "metadata": {},
   "outputs": [
    {
     "name": "stdout",
     "output_type": "stream",
     "text": [
      "Name is John Doe and they spent 100.000000 and 120\n"
     ]
    }
   ],
   "source": [
    "amt1 = 100\n",
    "amt2 = 120.25\n",
    "print('Name is %s and they spent %f and %d' % (name, amt1, amt2))"
   ]
  },
  {
   "cell_type": "markdown",
   "metadata": {},
   "source": [
    "However, you can use an `int` for a `%f` operator for `float`, and a `float` for a `%d` operator for `int`."
   ]
  },
  {
   "cell_type": "markdown",
   "metadata": {},
   "source": [
    "## 3. `.format()` \n",
    "\n",
    "#### Modern version of `%` operator."
   ]
  },
  {
   "cell_type": "markdown",
   "metadata": {},
   "source": [
    "### 3.a. No Parameters"
   ]
  },
  {
   "cell_type": "code",
   "execution_count": 10,
   "metadata": {},
   "outputs": [
    {
     "name": "stdout",
     "output_type": "stream",
     "text": [
      "Name is John Doe and they spent 10000.123\n"
     ]
    }
   ],
   "source": [
    "name = 'John Doe'\n",
    "amt = 10_000.123\n",
    "\n",
    "print('Name is {} and they spent {}'.format(\n",
    "    name, amt))"
   ]
  },
  {
   "cell_type": "code",
   "execution_count": 11,
   "metadata": {},
   "outputs": [
    {
     "name": "stdout",
     "output_type": "stream",
     "text": [
      "Name is John Doe and John Doe spent 10000.123\n"
     ]
    }
   ],
   "source": [
    "print('Name is {} and {} spent {}'.format(\n",
    "    name, name, amt))"
   ]
  },
  {
   "cell_type": "code",
   "execution_count": 12,
   "metadata": {},
   "outputs": [
    {
     "name": "stdout",
     "output_type": "stream",
     "text": [
      "Name is John Doe and they spent John Doe\n"
     ]
    }
   ],
   "source": [
    "# no issues\n",
    "print('Name is {} and they spent {}'.format(\n",
    "    name, name, amt))"
   ]
  },
  {
   "cell_type": "code",
   "execution_count": 13,
   "metadata": {},
   "outputs": [
    {
     "ename": "IndexError",
     "evalue": "tuple index out of range",
     "output_type": "error",
     "traceback": [
      "\u001b[1;31m---------------------------------------------------------------------------\u001b[0m",
      "\u001b[1;31mIndexError\u001b[0m                                Traceback (most recent call last)",
      "\u001b[1;32m<ipython-input-13-6bf19f19c10b>\u001b[0m in \u001b[0;36m<module>\u001b[1;34m\u001b[0m\n\u001b[0;32m      1\u001b[0m \u001b[1;31m# error\u001b[0m\u001b[1;33m\u001b[0m\u001b[1;33m\u001b[0m\u001b[1;33m\u001b[0m\u001b[0m\n\u001b[0;32m      2\u001b[0m print('Name is {} and they spent {}'.format(\n\u001b[1;32m----> 3\u001b[1;33m     name))\n\u001b[0m",
      "\u001b[1;31mIndexError\u001b[0m: tuple index out of range"
     ]
    }
   ],
   "source": [
    "# error\n",
    "print('Name is {} and they spent {}'.format(\n",
    "    name))"
   ]
  },
  {
   "cell_type": "markdown",
   "metadata": {},
   "source": [
    "You can have more values in the `.format()` than arguments `{}` in the original `str`, but the reverse will give you an error. \n",
    "\n",
    "More forgiving than `%` operator."
   ]
  },
  {
   "cell_type": "markdown",
   "metadata": {},
   "source": [
    "### 3.b. With Parameters"
   ]
  },
  {
   "cell_type": "code",
   "execution_count": 14,
   "metadata": {},
   "outputs": [
    {
     "name": "stdout",
     "output_type": "stream",
     "text": [
      "Name is John Doe and they spent 10000.123\n",
      "Name is John Doe and they spent 10000.123\n"
     ]
    }
   ],
   "source": [
    "name = 'John Doe'\n",
    "name2 = 'Jessica'\n",
    "amt = 10_000.123\n",
    "\n",
    "print('Name is {cust_name} and they spent {amt}'.format(\n",
    "    cust_name=name, amt=amt))\n",
    "\n",
    "# order does not matter for keyword arguments\n",
    "print('Name is {cust_name} and they spent {amt}'.format(\n",
    "    amt=amt, cust_name=name))"
   ]
  },
  {
   "cell_type": "code",
   "execution_count": 15,
   "metadata": {},
   "outputs": [
    {
     "name": "stdout",
     "output_type": "stream",
     "text": [
      "Name is John Doe and Jessica spent 10000.123\n"
     ]
    }
   ],
   "source": [
    "# mixing keyword and non-keyword arguments\n",
    "print('Name is {cust_name} and {} spent {amt}'.format(\n",
    "    name2, cust_name=name, amt=amt))"
   ]
  },
  {
   "cell_type": "code",
   "execution_count": 16,
   "metadata": {},
   "outputs": [
    {
     "ename": "SyntaxError",
     "evalue": "positional argument follows keyword argument (<ipython-input-16-c14d78177f69>, line 2)",
     "output_type": "error",
     "traceback": [
      "\u001b[1;36m  File \u001b[1;32m\"<ipython-input-16-c14d78177f69>\"\u001b[1;36m, line \u001b[1;32m2\u001b[0m\n\u001b[1;33m    cust_name=name, name2, amt=amt))\u001b[0m\n\u001b[1;37m                   ^\u001b[0m\n\u001b[1;31mSyntaxError\u001b[0m\u001b[1;31m:\u001b[0m positional argument follows keyword argument\n"
     ]
    }
   ],
   "source": [
    "print('Name is {cust_name} and {} spent {amt}'.format(\n",
    "    cust_name=name, name2, amt=amt))"
   ]
  },
  {
   "cell_type": "markdown",
   "metadata": {},
   "source": [
    "You don't follow the order of the `{}` if you're mixing keyword and no-keyword arguments. The non-keyword `{}` arguments must always precede keyword-arguments `{cust_name}`."
   ]
  },
  {
   "cell_type": "markdown",
   "metadata": {},
   "source": [
    "## 4. Number Formatting"
   ]
  },
  {
   "cell_type": "code",
   "execution_count": 17,
   "metadata": {},
   "outputs": [
    {
     "name": "stdout",
     "output_type": "stream",
     "text": [
      "100.00\n",
      "100.123\n"
     ]
    }
   ],
   "source": [
    "num1 = 100\n",
    "num2 = 100.123456\n",
    "\n",
    "print('%.2f' % num1)  # old method\n",
    "print('{:0.3f}'.format(num2))  # modern method"
   ]
  },
  {
   "cell_type": "markdown",
   "metadata": {},
   "source": [
    "## 5. Formatted String Literals \"f-strings\"\n",
    "\n",
    "Two key points are:\n",
    "1. `f` precedes the string quotations\n",
    "2. keyword arguments, ex: `{cust_name}` must exactly match the variable name, ex: `cust_name`"
   ]
  },
  {
   "cell_type": "code",
   "execution_count": 18,
   "metadata": {},
   "outputs": [
    {
     "name": "stdout",
     "output_type": "stream",
     "text": [
      "The customer's name is John Doe and their phone number is 300-661-0002\n"
     ]
    }
   ],
   "source": [
    "cust_name = 'John Doe'\n",
    "phone_num = '300-661-0002'\n",
    "\n",
    "print(f'The customer\\'s name is {cust_name} and ' + \\\n",
    "      f'their phone number is {phone_num}')"
   ]
  }
 ],
 "metadata": {
  "kernelspec": {
   "display_name": "Python 3",
   "language": "python",
   "name": "python3"
  },
  "language_info": {
   "codemirror_mode": {
    "name": "ipython",
    "version": 3
   },
   "file_extension": ".py",
   "mimetype": "text/x-python",
   "name": "python",
   "nbconvert_exporter": "python",
   "pygments_lexer": "ipython3",
   "version": "3.7.4"
  }
 },
 "nbformat": 4,
 "nbformat_minor": 2
}
