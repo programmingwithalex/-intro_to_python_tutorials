{
 "cells": [
  {
   "cell_type": "markdown",
   "metadata": {},
   "source": [
    "## Data Types that Allow Indexing\n",
    "\n",
    "1. Lists\n",
    "2. Tuples\n",
    "2. Strings\n",
    "\n",
    "### Data Types that Forbid Indexing\n",
    "1. Integer/Float\n",
    "2. Boolean\n",
    "3. Set\n",
    "4. Dictionary"
   ]
  },
  {
   "cell_type": "markdown",
   "metadata": {},
   "source": [
    "### Indexing Individual Elements"
   ]
  },
  {
   "cell_type": "code",
   "execution_count": 2,
   "metadata": {},
   "outputs": [
    {
     "name": "stdout",
     "output_type": "stream",
     "text": [
      "1\n",
      "a\n",
      "3\n"
     ]
    }
   ],
   "source": [
    "lst = [1, 2, 5, 'a', 'r', 't']\n",
    "apple_str = 'apple'\n",
    "tuple_tester = (3, 4, 'art')\n",
    "\n",
    "print(lst[0])\n",
    "print(apple_str[0])\n",
    "print(tuple_tester[0]) ## indexing for anything always starts at 0"
   ]
  },
  {
   "cell_type": "code",
   "execution_count": 3,
   "metadata": {},
   "outputs": [
    {
     "data": {
      "text/plain": [
       "'a'"
      ]
     },
     "execution_count": 3,
     "metadata": {},
     "output_type": "execute_result"
    }
   ],
   "source": [
    "lst[3] ## corresponds to the fourth element in the list"
   ]
  },
  {
   "cell_type": "markdown",
   "metadata": {},
   "source": [
    "### Accessing Individual Elements Outside List Length"
   ]
  },
  {
   "cell_type": "code",
   "execution_count": 4,
   "metadata": {},
   "outputs": [
    {
     "data": {
      "text/plain": [
       "6"
      ]
     },
     "execution_count": 4,
     "metadata": {},
     "output_type": "execute_result"
    }
   ],
   "source": [
    "len(lst) ## Number of elements in the list"
   ]
  },
  {
   "cell_type": "code",
   "execution_count": 5,
   "metadata": {},
   "outputs": [
    {
     "ename": "IndexError",
     "evalue": "list index out of range",
     "output_type": "error",
     "traceback": [
      "\u001b[1;31m---------------------------------------------------------------------------\u001b[0m",
      "\u001b[1;31mIndexError\u001b[0m                                Traceback (most recent call last)",
      "\u001b[1;32m<ipython-input-5-e32b09532113>\u001b[0m in \u001b[0;36m<module>\u001b[1;34m\u001b[0m\n\u001b[1;32m----> 1\u001b[1;33m \u001b[0mlst\u001b[0m\u001b[1;33m[\u001b[0m\u001b[1;36m6\u001b[0m\u001b[1;33m]\u001b[0m\u001b[1;33m\u001b[0m\u001b[1;33m\u001b[0m\u001b[0m\n\u001b[0m",
      "\u001b[1;31mIndexError\u001b[0m: list index out of range"
     ]
    }
   ],
   "source": [
    "lst[6]"
   ]
  },
  {
   "cell_type": "code",
   "execution_count": 6,
   "metadata": {},
   "outputs": [
    {
     "data": {
      "text/plain": [
       "'t'"
      ]
     },
     "execution_count": 6,
     "metadata": {},
     "output_type": "execute_result"
    }
   ],
   "source": [
    "lst[5]"
   ]
  },
  {
   "cell_type": "markdown",
   "metadata": {},
   "source": [
    "The length of `lst` is 6 as shown above. However, trying to access element 6 of `lst` gives an error, because the positional indexes of `lst` are 0 to 5. \n",
    "\n",
    "If you print `lst[5]` as shown above, you get the last element of `lst`, which is `t`, and no error."
   ]
  },
  {
   "cell_type": "markdown",
   "metadata": {},
   "source": [
    "### Indexing Groups of Elements - Slicing\n",
    "\n",
    "Indexing groups of elements using the `:` operator is referred to as `slicing` in Python. \n",
    "\n",
    "<u>I will refer to accessing groups of elements as `slicing` going forward.</u>\n",
    "\n",
    "-----------"
   ]
  },
  {
   "cell_type": "markdown",
   "metadata": {},
   "source": [
    "Slicing format in Python is as follows:\n",
    "\n",
    "`lst[<starting index> : <ending index + 1> : <skip number>]`\n",
<<<<<<< HEAD
    "\n",
    "Example: `lst[0:5:2]` --> prints every second element from position 0 to 4\n",
    "\n",
=======
    "\n",
    "Example: `lst[0:5:2]` --> prints every second element from position 0 to 4\n",
    "\n",
>>>>>>> 502404cc7a2703fed66136972e1d90499b220f5c
    "All three parameters in slicing are optional."
   ]
  },
  {
   "cell_type": "code",
   "execution_count": 7,
   "metadata": {},
   "outputs": [
    {
     "data": {
      "text/plain": [
       "[1, 2, 5, 'a', 'r', 't']"
      ]
     },
     "execution_count": 7,
     "metadata": {},
     "output_type": "execute_result"
    }
   ],
   "source": [
    "lst"
   ]
  },
  {
   "cell_type": "code",
<<<<<<< HEAD
   "execution_count": 7,
=======
   "execution_count": 8,
>>>>>>> 502404cc7a2703fed66136972e1d90499b220f5c
   "metadata": {},
   "outputs": [
    {
     "data": {
      "text/plain": [
       "[1, 2]"
      ]
     },
<<<<<<< HEAD
     "execution_count": 7,
=======
     "execution_count": 8,
>>>>>>> 502404cc7a2703fed66136972e1d90499b220f5c
     "metadata": {},
     "output_type": "execute_result"
    }
   ],
   "source": [
    "lst[0:2] ## ending index is actually 2-1 = 1"
   ]
  },
  {
   "cell_type": "markdown",
   "metadata": {},
   "source": [
    "All indexing starts at 0. The `0` to the left of the `:` corresponds to the starting index, the `2` corresponds to the ending index.\n",
    "\n",
    "Elements at positions 0 to 2 are `1, 2, 5`. \n",
    "\n",
    "However, only elements `1, 2` are printed. When using the `:` operator to select a range of a list, the last element of the range is **not** selected.\n",
    "\n",
    "So the true range is only for elements 0 to 1 (2-1)."
   ]
  },
  {
   "cell_type": "markdown",
   "metadata": {},
   "source": [
    "### Slicing Outside List Length"
   ]
  },
  {
   "cell_type": "code",
<<<<<<< HEAD
   "execution_count": 8,
=======
   "execution_count": 9,
>>>>>>> 502404cc7a2703fed66136972e1d90499b220f5c
   "metadata": {},
   "outputs": [
    {
     "data": {
      "text/plain": [
       "[5, 'a', 'r', 't']"
      ]
     },
<<<<<<< HEAD
     "execution_count": 8,
=======
     "execution_count": 9,
>>>>>>> 502404cc7a2703fed66136972e1d90499b220f5c
     "metadata": {},
     "output_type": "execute_result"
    }
   ],
   "source": [
    "lst[2:20]"
   ]
  },
  {
   "cell_type": "markdown",
   "metadata": {},
   "source": [
    "Unlike the case of single element access, `lst[6]`, which gave an error, slicing with a length greater than `len(lst) - 1` gives no error.\n",
    "\n",
    "By default Python won't give you an error, but will instead select as far as it can. This is both good and bad. \n",
    "\n",
    "The good is you won't get an error to stop your program. The bad news is you won't get an error, which may have alerted you to something wrong in your code that you will find out later."
   ]
  },
  {
   "cell_type": "markdown",
   "metadata": {},
   "source": [
    "### Interval Slicing"
   ]
  },
  {
   "cell_type": "code",
<<<<<<< HEAD
   "execution_count": 9,
=======
   "execution_count": 14,
>>>>>>> 502404cc7a2703fed66136972e1d90499b220f5c
   "metadata": {},
   "outputs": [
    {
     "data": {
      "text/plain": [
       "[1, 2, 5, 'a', 'r', 't']"
      ]
     },
<<<<<<< HEAD
     "execution_count": 9,
=======
     "execution_count": 14,
>>>>>>> 502404cc7a2703fed66136972e1d90499b220f5c
     "metadata": {},
     "output_type": "execute_result"
    }
   ],
   "source": [
    "lst"
   ]
  },
  {
   "cell_type": "code",
<<<<<<< HEAD
   "execution_count": 10,
=======
   "execution_count": 15,
>>>>>>> 502404cc7a2703fed66136972e1d90499b220f5c
   "metadata": {},
   "outputs": [
    {
     "name": "stdout",
     "output_type": "stream",
     "text": [
      "[1, 2, 5, 'a', 'r', 't']\n",
      "[1, 5, 'r']\n"
     ]
    }
   ],
   "source": [
    "print(lst[0:len(lst)]) ## len(lst) = 6 --> ending index = (6 - 1) = 5\n",
    "\n",
    "print(lst[0:len(lst):2])"
   ]
  },
  {
   "cell_type": "markdown",
   "metadata": {},
   "source": [
    "I selected the entire `lst` by selecting my starting index as `0`, ending index as `len(lst)-1` = 5. \n",
    "\n",
    "I then added another `:` at the end telling Python to select every second element starting at `0` and ending at `len(lst)-1` for `lst`."
   ]
  },
  {
   "cell_type": "code",
<<<<<<< HEAD
   "execution_count": 11,
=======
   "execution_count": 16,
>>>>>>> 502404cc7a2703fed66136972e1d90499b220f5c
   "metadata": {},
   "outputs": [
    {
     "data": {
      "text/plain": [
       "[1, 5, 'r']"
      ]
     },
<<<<<<< HEAD
     "execution_count": 11,
=======
     "execution_count": 16,
>>>>>>> 502404cc7a2703fed66136972e1d90499b220f5c
     "metadata": {},
     "output_type": "execute_result"
    }
   ],
   "source": [
    "lst[::2]"
   ]
  },
  {
   "cell_type": "markdown",
   "metadata": {},
   "source": [
    "This is another way to do what we just did. By not specifing anything for the starting and ending index, Python will by default select the entire `lst`."
   ]
  },
  {
   "cell_type": "code",
<<<<<<< HEAD
   "execution_count": 12,
=======
   "execution_count": 17,
>>>>>>> 502404cc7a2703fed66136972e1d90499b220f5c
   "metadata": {},
   "outputs": [
    {
     "name": "stdout",
     "output_type": "stream",
     "text": [
      "[1, 2, 5, 'a', 'r', 't']\n",
      "[2, 'r']\n",
      "[1, 5]\n"
     ]
    }
   ],
   "source": [
    "print(lst)\n",
    "print(lst[1::3]) ## empty end index\n",
    "print(lst[:4:2]) ## empty start index"
   ]
  },
  {
   "cell_type": "markdown",
   "metadata": {},
   "source": [
    "You can omit the starting index, ending index, or both and Python will run fine. \n",
    "\n",
    "Default values are:\n",
    "- starting index : `0`\n",
    "- ending index : `len(lst)`"
   ]
  },
  {
   "cell_type": "markdown",
   "metadata": {},
   "source": [
    "### Negative Indexes"
   ]
  },
  {
   "cell_type": "markdown",
   "metadata": {},
   "source": [
    "One of the most powerful elements of Python in my opinion compared to other languages is the ability to use **negative** indexing.\n",
    "\n",
    "Negative indexing allows you to do everything above but working from the end of the list instead of the beginning. Conventional languages like C++, Java, etc. will not allow you to do this."
   ]
  },
  {
   "cell_type": "code",
<<<<<<< HEAD
   "execution_count": 13,
=======
   "execution_count": 20,
>>>>>>> 502404cc7a2703fed66136972e1d90499b220f5c
   "metadata": {},
   "outputs": [
    {
     "data": {
      "text/plain": [
       "[1, 2, 5, 'a', 'r', 't']"
      ]
     },
<<<<<<< HEAD
     "execution_count": 13,
=======
     "execution_count": 20,
>>>>>>> 502404cc7a2703fed66136972e1d90499b220f5c
     "metadata": {},
     "output_type": "execute_result"
    }
   ],
   "source": [
    "lst"
   ]
  },
  {
   "cell_type": "code",
<<<<<<< HEAD
   "execution_count": 14,
=======
   "execution_count": 21,
>>>>>>> 502404cc7a2703fed66136972e1d90499b220f5c
   "metadata": {},
   "outputs": [
    {
     "name": "stdout",
     "output_type": "stream",
     "text": [
      "t\n",
      "2\n"
     ]
    }
   ],
   "source": [
    "print(lst[-1])\n",
    "print(lst[-5])"
   ]
  },
  {
   "cell_type": "markdown",
   "metadata": {},
   "source": [
    "Here we see by selecting the `-1` element, it returns the last element of `lst`. \n",
    "\n",
    "By selecting the `-5` element, it returns the fifth last element of `lst`. \n",
    "\n",
    "You may be noticing a problem with the golden rule, indexing always starts at 0. That is true for forward indexing, but backwards indexing always starts at `-1`."
   ]
  },
  {
   "cell_type": "code",
<<<<<<< HEAD
   "execution_count": 15,
=======
   "execution_count": 24,
>>>>>>> 502404cc7a2703fed66136972e1d90499b220f5c
   "metadata": {},
   "outputs": [
    {
     "name": "stdout",
     "output_type": "stream",
     "text": [
      "[]\n",
      "['a', 'r']\n",
      "[]\n",
      "['a', 'r', 't']\n"
     ]
    }
   ],
   "source": [
    "print(lst[-1:-3]) ## order is bad\n",
    "print(lst[-3:-1]) ## -1 isn't included in slicing\n",
    "print(lst[-3:0])  ## 0 specifies the first element. Can't slice from third to last to first element\n",
    "print(lst[-3:])   ## empty ending index selects everything after third to last element"
   ]
  },
  {
   "cell_type": "markdown",
   "metadata": {},
   "source": [
    "The first example, `lst[-1:-3]` slices from the last element to the third to second to last element. This doesn't work as indexing always goes from left to right, so there is nothing to print. \n",
    "\n",
    "However, switching the positional indexes in the second example does print."
   ]
  },
  {
   "cell_type": "code",
<<<<<<< HEAD
   "execution_count": 16,
=======
   "execution_count": 25,
>>>>>>> 502404cc7a2703fed66136972e1d90499b220f5c
   "metadata": {},
   "outputs": [
    {
     "name": "stdout",
     "output_type": "stream",
     "text": [
      "[1, 2, 5, 'a', 'r', 't']\n",
      "['t', 'r', 'a', 5, 2, 1]\n"
     ]
    }
   ],
   "source": [
    "print(lst)\n",
    "\n",
    "print(lst[::-1]) ## very commonly used to reverse data types that support indexing, commit to memory"
   ]
  },
  {
   "cell_type": "markdown",
   "metadata": {},
   "source": [
    "Finally, you can do interval slicing with negative indices as well. The one above simply reverses `lst`."
   ]
  }
 ],
 "metadata": {
  "kernelspec": {
   "display_name": "Python 3",
   "language": "python",
   "name": "python3"
  },
  "language_info": {
   "codemirror_mode": {
    "name": "ipython",
    "version": 3
   },
   "file_extension": ".py",
   "mimetype": "text/x-python",
   "name": "python",
   "nbconvert_exporter": "python",
   "pygments_lexer": "ipython3",
   "version": "3.7.4"
  }
 },
 "nbformat": 4,
 "nbformat_minor": 2
}
