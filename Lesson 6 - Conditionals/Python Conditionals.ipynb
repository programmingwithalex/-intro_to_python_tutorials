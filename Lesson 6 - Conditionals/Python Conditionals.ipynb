{
 "cells": [
  {
   "cell_type": "markdown",
   "metadata": {},
   "source": [
    "### What are conditionals used for in Python?\n",
    "\n",
    "To peform logic A if the conditional is met, otherwise perform logic B.\n",
    "\n",
    "For example, you're writing a program for a store. The store manager wants to start a new loyalty program, saying if a customer has bought over 10,000 worth of merchandise, then they are added to the loyalty program for life. So you need a conditional that checks for each customer if the amount they've spent is over 10,000. If they have, add them. If they haven't don't add them.\n",
    "\n",
    "-----"
   ]
  },
  {
   "cell_type": "markdown",
   "metadata": {},
   "source": [
    "## Table of Contents\n",
    "1. Conditional Return Value\n",
    "\n",
    "\n",
    "2. `if` Statement\n",
    "\n",
    "\n",
    "3. Nested `if` Statement\n",
    "\n",
    "\n",
    "4. `if else` Statement\n",
    "\n",
    "\n",
    "5. `while` Statement\n",
    "\n",
    "\n",
    "6. `pass` keyword\n",
    "\n",
    "\n",
    "7. `continue` keyword\n",
    "\n",
    "\n",
    "8. One-line `if else` Statement"
   ]
  },
  {
   "cell_type": "markdown",
   "metadata": {},
   "source": [
    "## 1. Conditional Return Value\n",
    "\n",
    "Conditionals return a `boolean` data type, covered in Lesson 2. \n",
    "\n",
    "`boolean` data types take on **only** two possible values:\n",
    "1. `True`\n",
    "2. `False`\n",
    "\n",
    "These are different than the `strings` 'True' and 'False'. `boolean` values `True` and `False` have no quotes and are keywords in Python. \n",
    "\n",
    "`True` and `False` **must be capitalized** to be recognized as keywords in Python."
   ]
  },
  {
   "cell_type": "code",
   "execution_count": 1,
   "metadata": {},
   "outputs": [
    {
     "data": {
      "text/plain": [
       "False"
      ]
     },
     "execution_count": 1,
     "metadata": {},
     "output_type": "execute_result"
    }
   ],
   "source": [
    "4 > 5"
   ]
  },
  {
   "cell_type": "code",
   "execution_count": 2,
   "metadata": {},
   "outputs": [
    {
     "name": "stdout",
     "output_type": "stream",
     "text": [
      "<class 'bool'>\n",
      "True\n"
     ]
    }
   ],
   "source": [
    "untrue = False\n",
    "\n",
    "print(type(untrue))\n",
    "\n",
    "print(untrue == (4 > 5))"
   ]
  },
  {
   "cell_type": "code",
   "execution_count": 3,
   "metadata": {},
   "outputs": [
    {
     "data": {
      "text/plain": [
       "True"
      ]
     },
     "execution_count": 3,
     "metadata": {},
     "output_type": "execute_result"
    }
   ],
   "source": [
    "5 > 4"
   ]
  },
  {
   "cell_type": "markdown",
   "metadata": {},
   "source": [
    "## 2. `if` Statement"
   ]
  },
  {
   "cell_type": "code",
   "execution_count": 4,
   "metadata": {},
   "outputs": [
    {
     "name": "stdout",
     "output_type": "stream",
     "text": [
      "yes\n"
     ]
    }
   ],
   "source": [
    "if True:\n",
    "    print('yes')"
   ]
  },
  {
   "cell_type": "code",
   "execution_count": 5,
   "metadata": {},
   "outputs": [
    {
     "ename": "IndentationError",
     "evalue": "expected an indented block (<ipython-input-5-7ad6306b0429>, line 2)",
     "output_type": "error",
     "traceback": [
      "\u001b[1;36m  File \u001b[1;32m\"<ipython-input-5-7ad6306b0429>\"\u001b[1;36m, line \u001b[1;32m2\u001b[0m\n\u001b[1;33m    print('yes')\u001b[0m\n\u001b[1;37m        ^\u001b[0m\n\u001b[1;31mIndentationError\u001b[0m\u001b[1;31m:\u001b[0m expected an indented block\n"
     ]
    }
   ],
   "source": [
    "if True:\n",
    "print('yes')"
   ]
  },
  {
   "cell_type": "markdown",
   "metadata": {},
   "source": [
    "Must have indented block the next line after the `if` statement.\n",
    "\n",
    "Convention is either 4 spaces or a Tab. Personally I use Tabs as it is quicker."
   ]
  },
  {
   "cell_type": "code",
   "execution_count": 14,
   "metadata": {},
   "outputs": [],
   "source": [
    "if False:\n",
    "    print('yes')"
   ]
  },
  {
   "cell_type": "code",
   "execution_count": 15,
   "metadata": {},
   "outputs": [],
   "source": [
    "if 4 > 5:\n",
    "    print('yes')"
   ]
  },
  {
   "cell_type": "code",
   "execution_count": 16,
   "metadata": {},
   "outputs": [
    {
     "name": "stdout",
     "output_type": "stream",
     "text": [
      "yes\n"
     ]
    }
   ],
   "source": [
    "if 5 > 4:\n",
    "    print('yes')"
   ]
  },
  {
   "cell_type": "code",
   "execution_count": 17,
   "metadata": {},
   "outputs": [
    {
     "name": "stdout",
     "output_type": "stream",
     "text": [
      "yes\n"
     ]
    }
   ],
   "source": [
    "x = 4\n",
    "y = 5\n",
    "\n",
    "if y > x:\n",
    "    print('yes')"
   ]
  },
  {
   "cell_type": "code",
   "execution_count": 18,
   "metadata": {},
   "outputs": [
    {
     "name": "stdout",
     "output_type": "stream",
     "text": [
      "yes 0\n",
      "yes 3\n"
     ]
    }
   ],
   "source": [
    "x = 5\n",
    "\n",
    "if x:\n",
    "    print('yes 0')\n",
    "\n",
    "x = 0\n",
    "    \n",
    "if x:\n",
    "    print('yes 1')\n",
    "    \n",
    "lst = []\n",
    "\n",
    "if lst:\n",
    "    print('yes 2')\n",
    "    \n",
    "lst = [1,2]\n",
    "\n",
    "if lst:\n",
    "    print('yes 3')"
   ]
  },
  {
   "cell_type": "markdown",
   "metadata": {},
   "source": [
    "If a value is equal to 0, or if the data type is empty (`list`, `dict`, `set`, `tuple`), `if` the value will return `False`."
   ]
  },
  {
   "cell_type": "code",
   "execution_count": 19,
   "metadata": {},
   "outputs": [
    {
     "name": "stdout",
     "output_type": "stream",
     "text": [
      "yes 0\n",
      "yes 2\n"
     ]
    }
   ],
   "source": [
    "if 'ab' in 'abcde':\n",
    "    print('yes 0')\n",
    "    \n",
    "if 'ba' in 'abcde':\n",
    "    print('yes 1')\n",
    "    \n",
    "if 'ab' in ['ab', 'cd', 'ef']:\n",
    "    print('yes 2')\n",
    "    \n",
    "if 'ba' in ['ab', 'cd', 'ef']:\n",
    "    print('yes 3')"
   ]
  },
  {
   "cell_type": "markdown",
   "metadata": {},
   "source": [
    "`if .. in .. :`\n",
    "\n",
    "follows a similar format to iteration that was touched on in Lesson 4 and 5. For iteration you write:\n",
    "\n",
    "`for i in range(0, 4):\n",
    "   print(i)\n",
    "`"
   ]
  },
  {
   "cell_type": "markdown",
   "metadata": {},
   "source": [
    "## 3. Nested `if` Statement"
   ]
  },
  {
   "cell_type": "code",
   "execution_count": 20,
   "metadata": {},
   "outputs": [
    {
     "name": "stdout",
     "output_type": "stream",
     "text": [
      "b > a\n",
      "c > b\n",
      "Done c, b\n",
      "Done b, a\n"
     ]
    }
   ],
   "source": [
    "a = 4\n",
    "b = 5\n",
    "c = 6\n",
    "d = 1\n",
    "\n",
    "if b > a:\n",
    "    print('b > a')\n",
    "    if c > b:\n",
    "        print('c > b')\n",
    "        if d > c: ## False\n",
    "            print('d > c')\n",
    "        print('Done c, b')\n",
    "    print('Done b, a')"
   ]
  },
  {
   "cell_type": "markdown",
   "metadata": {},
   "source": [
    "## 4. `if else` Statement"
   ]
  },
  {
   "cell_type": "code",
   "execution_count": 21,
   "metadata": {},
   "outputs": [
    {
     "name": "stdout",
     "output_type": "stream",
     "text": [
      "b > a\n"
     ]
    }
   ],
   "source": [
    "a = 4\n",
    "b = 5\n",
    "\n",
    "if a > b:\n",
    "    print('a > b')\n",
    "else:\n",
    "    print('b > a')"
   ]
  },
  {
   "cell_type": "code",
   "execution_count": 22,
   "metadata": {},
   "outputs": [
    {
     "name": "stdout",
     "output_type": "stream",
     "text": [
      "a is less than b, c, and d\n"
     ]
    }
   ],
   "source": [
    "a = 4\n",
    "b = 5\n",
    "c = 6\n",
    "d = 7\n",
    "\n",
    "if a > b:\n",
    "    print('a > b')\n",
    "elif a > c: # elif = else if\n",
    "    print('a > c')\n",
    "elif a > d:\n",
    "    print('a > d')\n",
    "else:\n",
    "    print('a is less than b, c, and d')"
   ]
  },
  {
   "cell_type": "code",
   "execution_count": 23,
   "metadata": {},
   "outputs": [
    {
     "name": "stdout",
     "output_type": "stream",
     "text": [
      "a < b\n",
      "Done with all other checks\n"
     ]
    }
   ],
   "source": [
    "a = 4\n",
    "b = 5\n",
    "c = 6\n",
    "d = 7\n",
    "\n",
    "if a < b:\n",
    "    print('a < b')\n",
    "    print('Done with all other checks')\n",
    "elif a > c: # elif = else if\n",
    "    print('a > c')\n",
    "elif a > d:\n",
    "    print('a > d')\n",
    "else:\n",
    "    print('a is less than b, c, and d')"
   ]
  },
  {
   "cell_type": "markdown",
   "metadata": {},
   "source": [
    "## 5. `while` Statement\n",
    "\n",
    "The danger with `while` statements is the program gets stuck because it can never exit the `while` loop."
   ]
  },
  {
   "cell_type": "code",
   "execution_count": 24,
   "metadata": {},
   "outputs": [
    {
     "name": "stdout",
     "output_type": "stream",
     "text": [
      "4\n",
      "3\n",
      "2\n",
      "1\n",
      "0\n"
     ]
    }
   ],
   "source": [
    "x = 5\n",
    "\n",
    "while x > 0:\n",
    "    x = x - 1 # must have something that will eventually break out of the while loop\n",
    "    \n",
    "    print(x)"
   ]
  },
  {
   "cell_type": "code",
   "execution_count": 25,
   "metadata": {},
   "outputs": [
    {
     "name": "stdout",
     "output_type": "stream",
     "text": [
      "5\n"
     ]
    }
   ],
   "source": [
    "x = 5\n",
    "\n",
    "while x > 0:\n",
    "    print(x)\n",
    "    \n",
    "    break # keyword `break` will break out of any loop"
   ]
  },
  {
   "cell_type": "markdown",
   "metadata": {},
   "source": [
    "## 6. `pass` keyword"
   ]
  },
  {
   "cell_type": "code",
   "execution_count": 27,
   "metadata": {},
   "outputs": [
    {
     "ename": "SyntaxError",
     "evalue": "unexpected EOF while parsing (<ipython-input-27-1a7a8efc2c52>, line 2)",
     "output_type": "error",
     "traceback": [
      "\u001b[1;36m  File \u001b[1;32m\"<ipython-input-27-1a7a8efc2c52>\"\u001b[1;36m, line \u001b[1;32m2\u001b[0m\n\u001b[1;33m    ## python expects something here ##\u001b[0m\n\u001b[1;37m                                       ^\u001b[0m\n\u001b[1;31mSyntaxError\u001b[0m\u001b[1;31m:\u001b[0m unexpected EOF while parsing\n"
     ]
    }
   ],
   "source": [
    "if True:\n",
    "    ## python expects something here ##"
   ]
  },
  {
   "cell_type": "code",
   "execution_count": null,
   "metadata": {},
   "outputs": [],
   "source": [
    "if False:"
   ]
  },
  {
   "cell_type": "code",
   "execution_count": 28,
   "metadata": {},
   "outputs": [
    {
     "name": "stdout",
     "output_type": "stream",
     "text": [
      "Code we actually want to execute\n"
     ]
    }
   ],
   "source": [
    "if True:\n",
    "    pass\n",
    "\n",
    "if False:\n",
    "    pass\n",
    "else:\n",
    "    print('Code we actually want to execute')"
   ]
  },
  {
   "cell_type": "markdown",
   "metadata": {},
   "source": [
    "## 7. `continue` keyword"
   ]
  },
  {
   "cell_type": "code",
   "execution_count": 29,
   "metadata": {},
   "outputs": [
    {
     "name": "stdout",
     "output_type": "stream",
     "text": [
      "9\n",
      "7\n",
      "5\n",
      "3\n",
      "1\n"
     ]
    }
   ],
   "source": [
    "x = 10\n",
    "\n",
    "while x > 0:\n",
    "    x = x - 1 # must have something that will eventually break out of the while loop\n",
    "    \n",
    "    if (x % 2) == 0: # `%` is pronounced modulo. It checks the remainder of the division.\n",
    "        continue\n",
    "        \n",
    "    print(x) # line doesn't get printed if the `continue` keyword line is called"
   ]
  },
  {
   "cell_type": "markdown",
   "metadata": {},
   "source": [
    "## 8. One-line `if else` Statement\n",
    "\n",
    "This is an advanced topic that you don't need to be too concerned with. It's a cool trick to know but is purely a design feature. It adds no additional functionality beyond what has already been shown."
   ]
  },
  {
   "cell_type": "code",
   "execution_count": 30,
   "metadata": {},
   "outputs": [
    {
     "name": "stdout",
     "output_type": "stream",
     "text": [
      "yes\n"
     ]
    }
   ],
   "source": [
    "print('yes') if True else 'no'"
   ]
  },
  {
   "cell_type": "code",
   "execution_count": 31,
   "metadata": {},
   "outputs": [
    {
     "data": {
      "text/plain": [
       "'no'"
      ]
     },
     "execution_count": 31,
     "metadata": {},
     "output_type": "execute_result"
    }
   ],
   "source": [
    "print('yes') if False else 'no'"
   ]
  },
  {
   "cell_type": "code",
   "execution_count": 32,
   "metadata": {},
   "outputs": [
    {
     "name": "stdout",
     "output_type": "stream",
     "text": [
      "15\n"
     ]
    }
   ],
   "source": [
    "x = 5\n",
    "\n",
    "x = x + 10 if x > 0 else x - 10\n",
    "\n",
    "print(x)"
   ]
  }
 ],
 "metadata": {
  "kernelspec": {
   "display_name": "Python 3",
   "language": "python",
   "name": "python3"
  },
  "language_info": {
   "codemirror_mode": {
    "name": "ipython",
    "version": 3
   },
   "file_extension": ".py",
   "mimetype": "text/x-python",
   "name": "python",
   "nbconvert_exporter": "python",
   "pygments_lexer": "ipython3",
   "version": "3.7.4"
  }
 },
 "nbformat": 4,
 "nbformat_minor": 2
}
