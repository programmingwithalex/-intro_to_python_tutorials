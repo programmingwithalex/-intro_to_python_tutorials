{
 "cells": [
  {
   "cell_type": "markdown",
   "metadata": {},
   "source": [
    "### What are loops used for in Python?\n",
    "\n",
    "To cycle through a list of values, using each value to do something.\n",
    "\n",
    "Let's keep using our store example. The manager has the same task for you, he wants to start a loyalty program for customers who've bought over 10,000 worth of mechandise. You have to use conditionals, from the last lesson, to check if the customer has indeed bought over 10,000 worth of merchandise. You also have to use loops though to check every customer for how much merchandise they bought. \n",
    "\n",
    "You'll find to do any real-world python examples you'll have to use multiple concepts.\n",
    "\n",
    "-----"
   ]
  },
  {
   "cell_type": "markdown",
   "metadata": {},
   "source": [
    "## Table of Contents\n",
    "1. `range`\n",
    "\n",
    "\n",
    "2. `for` Loops\n",
    "\n",
    "    2.a. `for` Loops and `range`\n",
    "    \n",
    "    2.b. `for` Loops and `list`\n",
    "    \n",
    "    2.c. `for` Loops and `dict`\n",
    "\n",
    "\n",
    "3. `while` Loops\n",
    "\n",
    "\n",
    "4. `break` Statements\n",
    "\n",
    "\n",
    "5. `continue` Statements\n",
    "\n",
    "\n",
    "6. `pass` Keyword\n",
    "\n",
    "\n",
    "7. Nested `for` Loops"
   ]
  },
  {
   "cell_type": "markdown",
   "metadata": {},
   "source": [
    "## 1. `range`\n",
    "\n",
    "`range(<starting index>, <ending index + 1>, (optional) <skip number>)`\n",
    "\n",
    "*** Same format as slicing. ***\n",
    "\n",
    "`starting index` must be less than `ending index + 1` or `range` will be empty."
   ]
  },
  {
   "cell_type": "code",
   "execution_count": 1,
   "metadata": {},
   "outputs": [
    {
     "data": {
      "text/plain": [
       "range(0, 5)"
      ]
     },
     "execution_count": 1,
     "metadata": {},
     "output_type": "execute_result"
    }
   ],
   "source": [
    "range(0, 5)"
   ]
  },
  {
   "cell_type": "code",
   "execution_count": 2,
   "metadata": {},
   "outputs": [
    {
     "data": {
      "text/plain": [
       "range(6, 18, 3)"
      ]
     },
     "execution_count": 2,
     "metadata": {},
     "output_type": "execute_result"
    }
   ],
   "source": [
    "range(6, 18, 3)"
   ]
  },
  {
   "cell_type": "code",
   "execution_count": 3,
   "metadata": {},
   "outputs": [
    {
     "data": {
      "text/plain": [
       "range(10, 0)"
      ]
     },
     "execution_count": 3,
     "metadata": {},
     "output_type": "execute_result"
    }
   ],
   "source": [
    "range(10, 0) ## empty range"
   ]
  },
  {
   "cell_type": "code",
   "execution_count": 4,
   "metadata": {},
   "outputs": [
    {
     "data": {
      "text/plain": [
       "range"
      ]
     },
     "execution_count": 4,
     "metadata": {},
     "output_type": "execute_result"
    }
   ],
   "source": [
    "type(range(0,5)) ## special data-type not covered previously"
   ]
  },
  {
   "cell_type": "code",
   "execution_count": 5,
   "metadata": {},
   "outputs": [
    {
     "data": {
      "text/plain": [
       "[0, 1, 2, 3, 4]"
      ]
     },
     "execution_count": 5,
     "metadata": {},
     "output_type": "execute_result"
    }
   ],
   "source": [
    "lst = [0, 1, 2, 3, 4]\n",
    "lst"
   ]
  },
  {
   "cell_type": "code",
   "execution_count": 6,
   "metadata": {},
   "outputs": [
    {
     "data": {
      "text/plain": [
       "False"
      ]
     },
     "execution_count": 6,
     "metadata": {},
     "output_type": "execute_result"
    }
   ],
   "source": [
    "lst == range(0, 5)"
   ]
  },
  {
   "cell_type": "markdown",
   "metadata": {},
   "source": [
    "`range` can be thought of a list of integers, but it is **not** equal to a list of integers."
   ]
  },
  {
   "cell_type": "markdown",
   "metadata": {},
   "source": [
    "## 2. `for` Loops"
   ]
  },
  {
   "cell_type": "markdown",
   "metadata": {},
   "source": [
    "### 2.a. `for` Loops and `range`"
   ]
  },
  {
   "cell_type": "markdown",
   "metadata": {},
   "source": [
    "----\n",
    "\n",
    "![title](images/python_for_loop.png)\n",
    "\n",
    "----"
   ]
  },
  {
   "cell_type": "code",
   "execution_count": 7,
   "metadata": {},
   "outputs": [
    {
     "name": "stdout",
     "output_type": "stream",
     "text": [
      "0\n",
      "1\n",
      "2\n",
      "3\n",
      "4\n"
     ]
    }
   ],
   "source": [
    "for i in range(0, 5):\n",
    "    print(i) ## indentation should be a tab or 4 spaces"
   ]
  },
  {
   "cell_type": "code",
   "execution_count": 8,
   "metadata": {},
   "outputs": [
    {
     "name": "stdout",
     "output_type": "stream",
     "text": [
      "0\n",
      "2\n",
      "4\n",
      "6\n",
      "8\n"
     ]
    }
   ],
   "source": [
    "for i in range(0, 10, 2):\n",
    "    print(i)"
   ]
  },
  {
   "cell_type": "code",
   "execution_count": 9,
   "metadata": {},
   "outputs": [
    {
     "ename": "IndentationError",
     "evalue": "expected an indented block (<ipython-input-9-ef707bb5bf4c>, line 2)",
     "output_type": "error",
     "traceback": [
      "\u001b[1;36m  File \u001b[1;32m\"<ipython-input-9-ef707bb5bf4c>\"\u001b[1;36m, line \u001b[1;32m2\u001b[0m\n\u001b[1;33m    print(i)  ## error: should be indented\u001b[0m\n\u001b[1;37m        ^\u001b[0m\n\u001b[1;31mIndentationError\u001b[0m\u001b[1;31m:\u001b[0m expected an indented block\n"
     ]
    }
   ],
   "source": [
    "for i in range(0, 5):\n",
    "print(i)  ## error: should be indented"
   ]
  },
  {
   "cell_type": "code",
   "execution_count": 10,
   "metadata": {},
   "outputs": [
    {
     "ename": "SyntaxError",
     "evalue": "unexpected EOF while parsing (<ipython-input-10-a884357a2635>, line 1)",
     "output_type": "error",
     "traceback": [
      "\u001b[1;36m  File \u001b[1;32m\"<ipython-input-10-a884357a2635>\"\u001b[1;36m, line \u001b[1;32m1\u001b[0m\n\u001b[1;33m    for i in range(0, 5): ## error: must have indented line after\u001b[0m\n\u001b[1;37m                                                                 ^\u001b[0m\n\u001b[1;31mSyntaxError\u001b[0m\u001b[1;31m:\u001b[0m unexpected EOF while parsing\n"
     ]
    }
   ],
   "source": [
    "for i in range(0, 5): ## error: must have indented line after"
   ]
  },
  {
   "cell_type": "markdown",
   "metadata": {},
   "source": [
    "Must always have either a tab character or spaces (4 is convention) after `for` loop on next line. \n",
    "\n",
    "The next line can not be blank either."
   ]
  },
  {
   "cell_type": "markdown",
   "metadata": {},
   "source": [
    "### 2.b. `for` Loops and `list`"
   ]
  },
  {
   "cell_type": "code",
   "execution_count": 11,
   "metadata": {},
   "outputs": [],
   "source": [
    "lst = [0, 1, 2, 3, 4] ## essentially same as range(0,5)"
   ]
  },
  {
   "cell_type": "code",
   "execution_count": 12,
   "metadata": {},
   "outputs": [
    {
     "name": "stdout",
     "output_type": "stream",
     "text": [
      "0\n",
      "1\n",
      "2\n",
      "3\n",
      "4\n"
     ]
    }
   ],
   "source": [
    "for i in lst:  # for i in range(0, 5):\n",
    "    print(i)"
   ]
  },
  {
   "cell_type": "markdown",
   "metadata": {},
   "source": [
    "i takes on every value of `lst` in sequential order."
   ]
  },
  {
   "cell_type": "markdown",
   "metadata": {},
   "source": [
    "### 2.c. `for` Loops and `dict`"
   ]
  },
  {
   "cell_type": "code",
   "execution_count": 13,
   "metadata": {},
   "outputs": [
    {
     "data": {
      "text/plain": [
       "{'a': 1, 'b': 2, 'c': 3, 'd': 4}"
      ]
     },
     "execution_count": 13,
     "metadata": {},
     "output_type": "execute_result"
    }
   ],
   "source": [
    "d = {'a': 1, 'b': 2, 'c': 3, 'd': 4}\n",
    "d"
   ]
  },
  {
   "cell_type": "code",
   "execution_count": 14,
   "metadata": {},
   "outputs": [
    {
     "name": "stdout",
     "output_type": "stream",
     "text": [
      "a 1\n",
      "b 2\n",
      "c 3\n",
      "d 4\n"
     ]
    }
   ],
   "source": [
    "# for i in lst:\n",
    "#     print(i)\n",
    "\n",
    "for key, value in d.items():\n",
    "    print(key, value)"
   ]
  },
  {
   "cell_type": "markdown",
   "metadata": {},
   "source": [
    "## 3. `while` Loops"
   ]
  },
  {
   "cell_type": "markdown",
   "metadata": {},
   "source": [
    "`while <some conditional>`:\n",
    "    \n",
    "    execute code until `<some conditional>` becomes `False`"
   ]
  },
  {
   "cell_type": "code",
   "execution_count": 15,
   "metadata": {},
   "outputs": [
    {
     "name": "stdout",
     "output_type": "stream",
     "text": [
      "0\n",
      "1\n",
      "2\n",
      "3\n",
      "4\n",
      "Done\n"
     ]
    }
   ],
   "source": [
    "x = 0\n",
    "\n",
    "while (x < 5):\n",
    "    print(x)\n",
    "    x = x + 1  ## x = 5 --> (x < 5) becomes False\n",
    "    \n",
    "print('Done')"
   ]
  },
  {
   "cell_type": "code",
   "execution_count": 16,
   "metadata": {},
   "outputs": [
    {
     "name": "stdout",
     "output_type": "stream",
     "text": [
      "0\n",
      "1\n",
      "2\n",
      "3\n",
      "4\n",
      "Done\n"
     ]
    }
   ],
   "source": [
    "count = 0\n",
    "limit = 5\n",
    "\n",
    "while count < limit: ## standard usage of while loops\n",
    "    print(lst[count])\n",
    "    count = count + 1\n",
    "    \n",
    "print('Done')"
   ]
  },
  {
   "cell_type": "markdown",
   "metadata": {},
   "source": [
    "## 4. `break` Statements\n",
    "\n",
    "Force the loop to stop executing. Code execution continues after the loop."
   ]
  },
  {
   "cell_type": "code",
   "execution_count": 17,
   "metadata": {},
   "outputs": [
    {
     "name": "stdout",
     "output_type": "stream",
     "text": [
      "0\n",
      "After break\n",
      "1\n",
      "After break\n",
      "2\n",
      "After break\n",
      "3\n",
      "After break\n",
      "4\n",
      "Outside of loop\n"
     ]
    }
   ],
   "source": [
    "x = 0\n",
    "\n",
    "while True:\n",
    "    print(x)\n",
    "    x = x + 1\n",
    "    \n",
    "    if x == 5:\n",
    "        break\n",
    "        \n",
    "    print('After break')\n",
    "        \n",
    "print('Outside of loop')"
   ]
  },
  {
   "cell_type": "code",
   "execution_count": 18,
   "metadata": {},
   "outputs": [
    {
     "name": "stdout",
     "output_type": "stream",
     "text": [
      "0\n",
      "1\n",
      "2\n",
      "3\n",
      "4\n",
      "Outside of loop\n"
     ]
    }
   ],
   "source": [
    "for i in range(10):\n",
    "    if i == 5:\n",
    "        break\n",
    "        \n",
    "    print(i)\n",
    "    \n",
    "print('Outside of loop')"
   ]
  },
  {
   "cell_type": "markdown",
   "metadata": {},
   "source": [
    "## 5. `continue` Statements\n",
    "\n",
    "Causes code after `continue` statement to be ignored. Loop continues to next execution."
   ]
  },
  {
   "cell_type": "code",
   "execution_count": 19,
   "metadata": {},
   "outputs": [
    {
     "name": "stdout",
     "output_type": "stream",
     "text": [
      "loop is at  0\n",
      "0\n",
      "loop is at  1\n",
      "1\n",
      "loop is at  2\n",
      "2\n",
      "loop is at  3\n",
      "3\n",
      "loop is at  4\n",
      "4\n",
      "loop is at  5\n",
      "loop is at  6\n",
      "loop is at  7\n",
      "loop is at  8\n",
      "loop is at  9\n",
      "Outside of loop\n"
     ]
    }
   ],
   "source": [
    "for i in range(10):\n",
    "    print('loop is at ', i)\n",
    "    if i >= 5:\n",
    "        continue  ## no code in the loop after executes\n",
    "        \n",
    "    print(i)\n",
    "    \n",
    "print('Outside of loop')"
   ]
  },
  {
   "cell_type": "code",
   "execution_count": 20,
   "metadata": {},
   "outputs": [
    {
     "name": "stdout",
     "output_type": "stream",
     "text": [
      "1\n",
      "3\n",
      "5\n",
      "7\n",
      "9\n",
      "Outside of loop\n"
     ]
    }
   ],
   "source": [
    "for i in range(10):\n",
    "    if i%2 == 0:\n",
    "        continue  ## no code in the loop after executes\n",
    "        \n",
    "    print(i)\n",
    "    \n",
    "print('Outside of loop')"
   ]
  },
  {
   "cell_type": "code",
   "execution_count": 21,
   "metadata": {},
   "outputs": [
    {
     "name": "stdout",
     "output_type": "stream",
     "text": [
      "loop is at  0\n",
      "1\n",
      "loop is at  1\n",
      "2\n",
      "loop is at  2\n",
      "3\n",
      "loop is at  3\n",
      "4\n",
      "loop is at  4\n",
      "5\n",
      "loop is at  5\n",
      "loop is at  6\n",
      "loop is at  7\n",
      "loop is at  8\n",
      "loop is at  9\n",
      "loop is at  10\n",
      "Outside of loop\n"
     ]
    }
   ],
   "source": [
    "x = 0\n",
    "\n",
    "while True:\n",
    "    print('loop is at ', x)\n",
    "    \n",
    "    if x == 10:\n",
    "        break  ## loop fully exits at x = 10\n",
    "        \n",
    "    if x >= 5: ## loop doesn't execute `print(x)` after x >= 5\n",
    "        x = x + 1\n",
    "        continue\n",
    "    \n",
    "    x = x + 1\n",
    "    print(x)\n",
    "    \n",
    "print('Outside of loop')"
   ]
  },
  {
   "cell_type": "markdown",
   "metadata": {},
   "source": [
    "## 6. `pass` Keyword\n",
    "\n",
    "No execution, but a placeholder when a line is needed after a `for` or `while` loop."
   ]
  },
  {
   "cell_type": "code",
   "execution_count": 22,
   "metadata": {},
   "outputs": [
    {
     "ename": "SyntaxError",
     "evalue": "unexpected EOF while parsing (<ipython-input-22-aa82eeb25f1e>, line 1)",
     "output_type": "error",
     "traceback": [
      "\u001b[1;36m  File \u001b[1;32m\"<ipython-input-22-aa82eeb25f1e>\"\u001b[1;36m, line \u001b[1;32m1\u001b[0m\n\u001b[1;33m    for i in range(5):\u001b[0m\n\u001b[1;37m                      ^\u001b[0m\n\u001b[1;31mSyntaxError\u001b[0m\u001b[1;31m:\u001b[0m unexpected EOF while parsing\n"
     ]
    }
   ],
   "source": [
    "for i in range(5):"
   ]
  },
  {
   "cell_type": "code",
   "execution_count": 23,
   "metadata": {},
   "outputs": [],
   "source": [
    "for i in range(5):\n",
    "    pass"
   ]
  },
  {
   "cell_type": "markdown",
   "metadata": {},
   "source": [
    "## 7. Nested `for` Loops\n",
    "\n",
    "Multiple level `for` loops. Usually used to iterate through a nested `list`."
   ]
  },
  {
   "cell_type": "code",
   "execution_count": 24,
   "metadata": {},
   "outputs": [
    {
     "name": "stdout",
     "output_type": "stream",
     "text": [
      "i: 0, j: 0\n",
      "i: 0, j: 1\n",
      "i: 0, j: 2\n",
      "i: 1, j: 0\n",
      "i: 1, j: 1\n",
      "i: 1, j: 2\n",
      "i: 2, j: 0\n",
      "i: 2, j: 1\n",
      "i: 2, j: 2\n"
     ]
    }
   ],
   "source": [
    "for i in range(3):\n",
    "    for j in range(3):\n",
    "        print('i: {}, j: {}'.format(i, j))"
   ]
  },
  {
   "cell_type": "code",
   "execution_count": 25,
   "metadata": {},
   "outputs": [
    {
     "name": "stdout",
     "output_type": "stream",
     "text": [
      "nested_lst[0][0]:  0\n",
      "nested_lst[0][1]:  1\n",
      "nested_lst[0][2]:  2\n",
      "nested_lst[1][0]:  3\n",
      "nested_lst[1][1]:  4\n",
      "nested_lst[1][2]:  5\n",
      "nested_lst[2][0]:  6\n",
      "nested_lst[2][1]:  7\n",
      "nested_lst[2][2]:  8\n"
     ]
    }
   ],
   "source": [
    "nested_lst = [[0, 1, 2],\n",
    "              [3, 4, 5],\n",
    "              [6, 7, 8]]\n",
    "\n",
    "for i in range(3):\n",
    "    for j in range(3):\n",
    "        print('nested_lst[{}][{}]: '.format(i, j), nested_lst[i][j])"
   ]
  }
 ],
 "metadata": {
  "kernelspec": {
   "display_name": "Python 3",
   "language": "python",
   "name": "python3"
  },
  "language_info": {
   "codemirror_mode": {
    "name": "ipython",
    "version": 3
   },
   "file_extension": ".py",
   "mimetype": "text/x-python",
   "name": "python",
   "nbconvert_exporter": "python",
   "pygments_lexer": "ipython3",
   "version": "3.7.4"
  }
 },
 "nbformat": 4,
 "nbformat_minor": 2
}
